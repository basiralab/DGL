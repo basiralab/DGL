{
  "nbformat": 4,
  "nbformat_minor": 0,
  "metadata": {
    "colab": {
      "provenance": [],
      "gpuType": "T4",
      "collapsed_sections": [
        "V1UCUFKq3RNy",
        "KaRY2T7eioju",
        "5nlGL1tQ2v11"
      ]
    },
    "kernelspec": {
      "name": "python3",
      "display_name": "Python 3"
    },
    "language_info": {
      "name": "python"
    },
    "accelerator": "GPU"
  },
  "cells": [
    {
      "cell_type": "markdown",
      "source": [
        "# Single-Layer Graph Convolutional Networks (GCN) - Ablation Study\n",
        "\n",
        "In this section, we explore on implementing a single GCN layer and we will specifically focus on three key components:\n",
        "\n",
        "1. Self-connections (self-loops)\n",
        "2. Non-linearities\n",
        "3. Normalization\n",
        "\n",
        "The aim is to understand the propagation rule for a GCN and its components and be able to implement it correctly.\n",
        "\n",
        "The feature update rule for the next layer $ H_{k+1} $ in a graph convolutional network is given by the equation\n",
        "\n",
        "$$\n",
        "H_{k+1} = \\sigma(\\tilde{D}^{-1/2} \\tilde{A} \\tilde{D}^{-1/2} H_k \\Omega_k)\n",
        "$$\n",
        "\n",
        "where  $\\tilde{D}$ is the degree matrix with added self-loops, $\\tilde{A}$ is the adjacency matrix with self-loops, $H_k$ are the features from the previous layer, $ \\Omega_k $ is the weight matrix at layer $ k $, and $\\sigma $ denotes the activation function."
      ],
      "metadata": {
        "id": "V1UCUFKq3RNy"
      }
    },
    {
      "cell_type": "markdown",
      "source": [
        "## Setting a Seed for Reproducibility\n",
        "\n",
        "To ensure that our results are reproducible, we will set a fixed seed for the random number generator. This step is crucial for educational and testing purposes, as it allows the same random numbers to be generated each time the notebook is run.\n",
        "\n"
      ],
      "metadata": {
        "id": "D44ZteR74hAK"
      }
    },
    {
      "cell_type": "code",
      "source": [
        "import numpy as np\n",
        "import networkx as nx\n",
        "import matplotlib.pyplot as plt\n",
        "import torch\n",
        "np.random.seed(42)  # Setting a fixed seed for numpy random number generator\n",
        "torch.manual_seed(42)"
      ],
      "metadata": {
        "id": "BcWMG6hfyfrU",
        "colab": {
          "base_uri": "https://localhost:8080/"
        },
        "outputId": "7d7bb199-1ec4-4026-fe93-46efa8b0573b"
      },
      "execution_count": null,
      "outputs": [
        {
          "output_type": "execute_result",
          "data": {
            "text/plain": [
              "<torch._C.Generator at 0x7f32ceb61b10>"
            ]
          },
          "metadata": {},
          "execution_count": 1
        }
      ]
    },
    {
      "cell_type": "markdown",
      "source": [
        "## Defining Helper Functions\n",
        "\n",
        "Next, we define several helper functions:\n",
        "- `relu`: The ReLU activation function.\n",
        "- `initialize_graph`: Initializes a graph with one high-degree node and other nodes having random lower degrees.\n",
        "- `add_self_connections`: Adds self-connections to the graph's adjacency matrix.\n",
        "- `normalize_adjacency`: Normalizes the adjacency matrix.\n",
        "- `plot_graph`: Plots the graph using NetworkX and Matplotlib.\n"
      ],
      "metadata": {
        "id": "yk-scFGb3n6S"
      }
    },
    {
      "cell_type": "code",
      "source": [
        "def sigmoid(x):\n",
        "    return 1 / (1 + np.exp(-x))\n",
        "\n",
        "\n",
        "def initialize_graph(num_nodes, high_degree):\n",
        "    # Ensure the high_degree is less than the number of nodes\n",
        "    if high_degree >= num_nodes:\n",
        "        raise ValueError(\"high_degree must be less than the number of nodes\")\n",
        "\n",
        "    # Define the adjacency matrix A for the graph\n",
        "    A = np.zeros((num_nodes, num_nodes))\n",
        "    # Connect the first node to 'high_degree' other nodes\n",
        "    A[0, 1:high_degree+1] = 1\n",
        "    A[1:high_degree+1, 0] = 1\n",
        "\n",
        "    # Assign random connections for the rest of the nodes, ensuring each has at least one connection\n",
        "    for i in range(high_degree+1, num_nodes):\n",
        "        # Randomly pick a node to connect with (not itself and not the first high-degree node)\n",
        "        connections = np.random.choice(range(1, high_degree+1), np.random.randint(1, high_degree), replace=False)\n",
        "        A[i, connections] = 1\n",
        "        A[connections, i] = 1\n",
        "\n",
        "    return A\n",
        "\n",
        "\n",
        "def plot_graph(A):\n",
        "    G = nx.Graph(A)\n",
        "    layout = nx.spring_layout(G)\n",
        "    nx.draw(G, layout, with_labels=True, node_color='lightblue', edge_color='gray', node_size=700, font_weight='bold')\n",
        "    plt.show()\n"
      ],
      "metadata": {
        "id": "AFfx72sKzxNF"
      },
      "execution_count": null,
      "outputs": []
    },
    {
      "cell_type": "markdown",
      "source": [
        "## Initialize Graph and Feature Matrix\n",
        "\n",
        "Here we set up our graph parameters, initialize the feature matrix `H_k` for our nodes, and visualize the initial graph structure. This setup serves as the basis for our ablation study.\n"
      ],
      "metadata": {
        "id": "cKR0XG7v3wsz"
      }
    },
    {
      "cell_type": "code",
      "source": [
        "num_nodes = 6\n",
        "high_degree = 4\n",
        "H_k = np.random.rand(num_nodes, 3)\n",
        "print(\"Initial feature matrix H_k:\\n\", H_k)\n",
        "A = initialize_graph(num_nodes, high_degree)\n",
        "print(\"\\nInitial Graph structure:\")\n",
        "plot_graph(A)\n"
      ],
      "metadata": {
        "colab": {
          "base_uri": "https://localhost:8080/",
          "height": 669
        },
        "id": "ZznJfz8Tz0J1",
        "outputId": "3685c7c9-f4b0-4462-d10d-8a6e67e332a5"
      },
      "execution_count": null,
      "outputs": [
        {
          "output_type": "stream",
          "name": "stdout",
          "text": [
            "Initial feature matrix H_k:\n",
            " [[0.37454012 0.95071431 0.73199394]\n",
            " [0.59865848 0.15601864 0.15599452]\n",
            " [0.05808361 0.86617615 0.60111501]\n",
            " [0.70807258 0.02058449 0.96990985]\n",
            " [0.83244264 0.21233911 0.18182497]\n",
            " [0.18340451 0.30424224 0.52475643]]\n",
            "\n",
            "Initial Graph structure:\n"
          ]
        },
        {
          "output_type": "display_data",
          "data": {
            "text/plain": [
              "<Figure size 640x480 with 1 Axes>"
            ],
            "image/png": "[encoded data removed]"
          },
          "metadata": {}
        }
      ]
    },
    {
      "cell_type": "markdown",
      "source": [
        "## Initializing the Weight Matrix (Omega_k)\n",
        "\n",
        "Before applying the GCN update rule, we need to define the weight matrix `Omega_k`. This matrix is a key component of the GCN, as it transforms the feature vectors during the update step. We will initialize it with random values.\n"
      ],
      "metadata": {
        "id": "Km1II_Rv506b"
      }
    },
    {
      "cell_type": "code",
      "source": [
        "# Define the dimensions of the weight matrix\n",
        "input_features = H_k.shape[1]  # Number of input features (columns of H_k)\n",
        "output_features = 2  # Number of output features (can be chosen based on your model's design)\n",
        "\n",
        "# Initialize the weight matrix Omega_k with random values\n",
        "Omega_k = np.random.rand(input_features, output_features)\n",
        "print(\"Weight matrix Omega_k:\")\n",
        "print(Omega_k)\n"
      ],
      "metadata": {
        "colab": {
          "base_uri": "https://localhost:8080/"
        },
        "id": "6TQhP3os50QA",
        "outputId": "df693d3d-7c6d-4747-fcb9-42c4660e798a"
      },
      "execution_count": null,
      "outputs": [
        {
          "output_type": "stream",
          "name": "stdout",
          "text": [
            "Weight matrix Omega_k:\n",
            "[[0.01326496 0.94220176]\n",
            " [0.56328822 0.3854165 ]\n",
            " [0.01596625 0.23089383]]\n"
          ]
        }
      ]
    },
    {
      "cell_type": "markdown",
      "source": [
        "## Add Self-Connections and Normalize Adjacency Matrix\n",
        "\n",
        "To implement the propagation rule, we first need to define two functions: one for adding self-connections to the adjacency matrix and another for normalizing the adjacency matrix.\n",
        "\n",
        "\n",
        "### Adding Self-Connections\n",
        "\n",
        "Self-connections are added to the adjacency matrix to include each node's own features when aggregating neighbor features. This is mathematically represented as:\n",
        "\n",
        "$$\n",
        "\\tilde{A} = A + I\n",
        "$$\n",
        "\n",
        "where $A$ is the original adjacency matrix, and $I$ is the identity matrix of size equal to the number of nodes in the graph.\n",
        "\n",
        "### Normalizing the Adjacency Matrix\n",
        "\n",
        "Normalization of the adjacency matrix is an essential step to ensure that the scale of the feature vectors remains constant over the graph. The normalized adjacency matrix is computed as:\n",
        "\n",
        "$$\n",
        "\\hat{A} = \\tilde{D}^{-1/2} \\tilde{A} \\tilde{D}^{-1/2}\n",
        "$$\n",
        "\n",
        "where $\\tilde{A}$ is the adjacency matrix with self-connections and $\\tilde{D}$ is the diagonal degree matrix of $\\tilde{A}$, with each diagonal element $\\tilde{D}_{ii}$ being the sum of the weights of the edges connected to node $i$, including the self-connection.\n",
        "\n",
        "These steps are crucial for the propagation rule in GCNs and directly influence the performance of the graph convolution operation.\n",
        "\n"
      ],
      "metadata": {
        "id": "OBJAsTL4Dj5-"
      }
    },
    {
      "cell_type": "code",
      "source": [
        "def add_self_connections(A):\n",
        "    \"\"\"\n",
        "    Add self-connections to the adjacency matrix.\n",
        "\n",
        "    This function adds an identity matrix to the adjacency matrix `A`, which\n",
        "    effectively adds a self-loop to each node in the graph. This is a common\n",
        "    preprocessing step in graph neural network implementations.\n",
        "\n",
        "    Parameters:\n",
        "    A (np.ndarray): The adjacency matrix to modify.\n",
        "\n",
        "    Returns:\n",
        "    np.ndarray: The adjacency matrix with self-connections added.\n",
        "    \"\"\"\n",
        "    # TODO: Implement the function to add an identity matrix to A\n",
        "\n",
        "\n",
        "def normalize_adjacency(A_hat):\n",
        "    \"\"\"\n",
        "    Normalize the adjacency matrix.\n",
        "\n",
        "    This function applies symmetric normalization to the adjacency matrix\n",
        "    `A_hat`. The normalization is done using the inverse square root of the\n",
        "    degree matrix. This step is important for many graph-based learning\n",
        "    algorithms to ensure that the scale of the feature representations is not\n",
        "    skewed by node degree.\n",
        "\n",
        "    Parameters:\n",
        "    A_hat (np.ndarray): The adjacency matrix with self-connections.\n",
        "\n",
        "    Returns:\n",
        "    np.ndarray: The normalized adjacency matrix.\n",
        "    \"\"\"\n",
        "    # TODO: Implement the function to normalize the adjacency matrix A_hat\n",
        "    # Hint: First compute the degree matrix D_hat_inv_sqrt, then apply the normalization\n",
        "\n"
      ],
      "metadata": {
        "id": "4T2YazZZDjnQ"
      },
      "execution_count": null,
      "outputs": []
    },
    {
      "cell_type": "markdown",
      "source": [
        "## GCN Update: With and Without Self-Connections\n",
        "\n",
        "Now, let's observe the impact of self-connections in GCN. We will compare the embeddings obtained from the GCN update rule with and without self-connections.\n"
      ],
      "metadata": {
        "id": "VS5kUpXr32y6"
      }
    },
    {
      "cell_type": "code",
      "source": [
        "# GCN update steps\n",
        "\n",
        "A_hat = add_self_connections(A)\n",
        "\n",
        "#Update With Self-connections\n",
        "H_k_self = sigmoid(normalize_adjacency(A_hat).dot(H_k).dot(Omega_k))\n",
        "\n",
        "#Update Without Self-connections\n",
        "# TODO: Use the normalize_adjacency function and the subsequent matrix multiplication for the GCN update without self-connections\n",
        "\n",
        "\n",
        "print(\"Without self-connections:\\n\", H_k_no_self)\n",
        "print(\"\\nWith self-connections:\\n\", H_k_self)"
      ],
      "metadata": {
        "colab": {
          "base_uri": "https://localhost:8080/"
        },
        "id": "MeYXfVjC0A79",
        "outputId": "dbdb4d03-b3a0-45ae-cd9d-ca3842bb3df5"
      },
      "execution_count": null,
      "outputs": [
        {
          "output_type": "stream",
          "name": "stdout",
          "text": [
            "Without self-connections:\n",
            " [[0.57696772 0.80536064]\n",
            " [0.56858758 0.60925057]\n",
            " [0.58031133 0.64676562]\n",
            " [0.56858758 0.60925057]\n",
            " [0.56858758 0.60925057]\n",
            " [0.58718334 0.59215929]]\n",
            "\n",
            "With self-connections:\n",
            " [[0.58028601 0.74915003]\n",
            " [0.55571092 0.64817279]\n",
            " [0.59460658 0.63946293]\n",
            " [0.54806409 0.67489895]\n",
            " [0.56005664 0.67589901]\n",
            " [0.57310076 0.60370023]]\n"
          ]
        }
      ]
    },
    {
      "cell_type": "markdown",
      "source": [
        "### Analysis: Impact of Self-Connections\n",
        "\n",
        "The results above show distinct differences in the feature matrices with and without self-connections. With self-connections, each node incorporates its own features along with its neighbors', leading to a more integrated feature representation. This often results in a richer and more nuanced feature update. Without self-connections, nodes solely rely on their neighbors, which might be limiting in graphs where individual node features are significant.\n"
      ],
      "metadata": {
        "id": "b6jf6_i64rfS"
      }
    },
    {
      "cell_type": "markdown",
      "source": [
        "## GCN Update: With and Without Non-linearities\n",
        "\n",
        "In this section, we analyze the role of the ReLU non-linearity in GCN. We will perform the GCN update once without applying ReLU and then with it, to contrast the differences.\n"
      ],
      "metadata": {
        "id": "462edAx13_gd"
      }
    },
    {
      "cell_type": "code",
      "source": [
        "# GCN update with non-linearities (sigmoid function)\n",
        "# Apply the sigmoid function as a non-linearity after normalizing the adjacency matrix with self-connections,\n",
        "# and performing the graph convolution operation.\n",
        "H_k_with_nonlin = sigmoid(normalize_adjacency(A_hat).dot(H_k).dot(Omega_k))\n",
        "\n",
        "# GCN update without non-linearities\n",
        "# TODO: Implement the graph convolution operation without applying any non-linearities (activation function)\n",
        "# after normalizing the adjacency matrix with self-connections.\n",
        "# H_k_no_nonlin =\n",
        "\n",
        "print(\"\\nWith non-linearities (Sigmoid):\")\n",
        "print(H_k_with_nonlin)\n",
        "print(\"\\nWithout non-linearities:\")\n",
        "print(H_k_no_nonlin)\n",
        "\n"
      ],
      "metadata": {
        "colab": {
          "base_uri": "https://localhost:8080/"
        },
        "id": "_yt1yOLF0GYc",
        "outputId": "06f00850-181c-47ec-f430-c75cc32c379a"
      },
      "execution_count": null,
      "outputs": [
        {
          "output_type": "stream",
          "name": "stdout",
          "text": [
            "Without non-linearities:\n",
            "[[0.32394759 1.09408423]\n",
            " [0.22377281 0.61101712]\n",
            " [0.38304196 0.57303385]\n",
            " [0.19285185 0.73042693]\n",
            " [0.24139191 0.73498851]\n",
            " [0.29451351 0.42090686]]\n",
            "\n",
            "With non-linearities (Sigmoid):\n",
            "[[0.58028601 0.74915003]\n",
            " [0.55571092 0.64817279]\n",
            " [0.59460658 0.63946293]\n",
            " [0.54806409 0.67489895]\n",
            " [0.56005664 0.67589901]\n",
            " [0.57310076 0.60370023]]\n"
          ]
        }
      ]
    },
    {
      "cell_type": "markdown",
      "source": [
        "### Analysis: Role of Non-linearities\n",
        "\n",
        "The inclusion of the ReLU non-linearity introduces an element of non-linear transformation to the features. This can be observed in the contrast between the `H_k_no_relu` and `H_k_with_relu` matrices. Non-linearities allow the network to capture more complex patterns, which is particularly important in learning intricate graph structures. The absence of ReLU results in a purely linear transformation, potentially reducing the model's expressive power.\n"
      ],
      "metadata": {
        "id": "e1sYm-l54w3j"
      }
    },
    {
      "cell_type": "markdown",
      "source": [
        "## GCN Update: With and Without Normalization\n",
        "\n",
        "Finally, let's explore how normalization affects the GCN update process. We'll compare the embeddings updates when normalization is applied and when it's omitted.\n",
        "\n"
      ],
      "metadata": {
        "id": "sk2C45n_4IWE"
      }
    },
    {
      "cell_type": "code",
      "source": [
        "# GCN update with normalization\n",
        "# Apply normalization to the adjacency matrix with self-connections,\n",
        "H_k_with_norm = normalize_adjacency(A_hat).dot(H_k).dot(Omega_k)\n",
        "\n",
        "\n",
        "# GCN update without normalization\n",
        "# TODO: Implement the graph convolution operation without normalizing the adjacency matrix.\n",
        "# H_k_no_norm =\n",
        "\n",
        "print(\"\\nWith normalization:\")\n",
        "print(H_k_with_norm)\n",
        "\n",
        "print(\"\\nWithout normalization:\")\n",
        "print(H_k_no_norm)\n"
      ],
      "metadata": {
        "colab": {
          "base_uri": "https://localhost:8080/"
        },
        "id": "wlfeCy150PNA",
        "outputId": "2f88e6e5-4ad8-40f5-f3b3-16317984a3d0"
      },
      "execution_count": null,
      "outputs": [
        {
          "output_type": "stream",
          "name": "stdout",
          "text": [
            "Without normalization:\n",
            "[[1.31879865 3.88306964]\n",
            " [0.65049692 1.54853363]\n",
            " [1.23264379 1.82691208]\n",
            " [0.58865501 1.78735325]\n",
            " [0.68573513 1.7964764 ]\n",
            " [0.68046217 0.93858586]]\n",
            "\n",
            "With normalization:\n",
            "[[0.32394759 1.09408423]\n",
            " [0.22377281 0.61101712]\n",
            " [0.38304196 0.57303385]\n",
            " [0.19285185 0.73042693]\n",
            " [0.24139191 0.73498851]\n",
            " [0.29451351 0.42090686]]\n"
          ]
        }
      ]
    },
    {
      "cell_type": "markdown",
      "source": [
        "### Analysis: Importance of Normalization\n",
        "\n",
        "Normalization plays a critical role in balancing the influence of nodes based on their degree. In `H_k_with_norm`, the feature updates are scaled, preventing high-degree nodes from dominating the feature space. Conversely, in `H_k_no_norm`, the lack of normalization can lead to skewed updates, especially in nodes with higher connectivity. This can be critical in maintaining the stability and effectiveness of the learning process in GCNs.\n"
      ],
      "metadata": {
        "id": "DIcfy0nl41_L"
      }
    },
    {
      "cell_type": "markdown",
      "source": [
        "Now, we will extend our understanding of GCNs by building and training a 2-layer GCN classifier. This model will be used for node classification. We'll visualize various aspects of the training process, including:\n",
        "The distribution of embeddings at each layer during training.\n",
        "The distribution of learned transformation weights (Omega_k).\n",
        "The training loss progression.\n",
        "Evaluation measures (accuracy, sensitivity, specificity) on test sets.\n",
        "Let's start by defining our 2-layer GCN model and preparing the training setup."
      ],
      "metadata": {
        "id": "cncwi0LtkPcF"
      }
    },
    {
      "cell_type": "markdown",
      "source": [
        "# Two-Layer GCN Classifier ( Task: Graph Classification )"
      ],
      "metadata": {
        "id": "KaRY2T7eioju"
      }
    },
    {
      "cell_type": "code",
      "source": [
        "import networkx as nx\n",
        "import random\n",
        "import numpy as np\n",
        "import torch\n",
        "import torch.nn as nn\n",
        "import torch.nn.functional as F\n",
        "import torch.optim as optim\n",
        "import seaborn as sns\n",
        "from sklearn.decomposition import PCA\n",
        "import matplotlib.pyplot as plt\n",
        "from sklearn.metrics import precision_score, recall_score, f1_score\n",
        "\n",
        "# Set seeds for reproducibility\n",
        "random_seed = 42\n",
        "random.seed(random_seed)        # Python's built-in random module\n",
        "np.random.seed(random_seed)     # NumPy's random number generator\n",
        "torch.manual_seed(random_seed)  # PyTorch's random number generator\n",
        "\n",
        "# If using a GPU, also set the seed for CUDA\n",
        "if torch.cuda.is_available():\n",
        "    torch.cuda.manual_seed(random_seed)\n",
        "    torch.cuda.manual_seed_all(random_seed)  # For multi-GPU setups\n",
        "    torch.backends.cudnn.deterministic = True\n",
        "    torch.backends.cudnn.benchmark = False"
      ],
      "metadata": {
        "id": "b8PPLv81jjaV"
      },
      "execution_count": null,
      "outputs": []
    },
    {
      "cell_type": "markdown",
      "source": [
        "## Creating and Classifying Random Molecular Graphs\n",
        "\n",
        "This script generates random molecular graphs and classifies them based on their atomic composition. Key functions include:\n",
        "\n",
        "- `create_random_molecule_graph`: Generates a random molecular graph with specified atoms and bonds.\n",
        "- `classify_molecule`: Determines the type of molecule based on certain criteria.\n",
        "- `generate_balanced_molecule_dataset`: Produces a balanced dataset of random molecule graphs for each type.\n",
        "\n",
        "Use this to create datasets for machine learning tasks involving molecular structures.\n"
      ],
      "metadata": {
        "id": "xIXy6XZklxjT"
      }
    },
    {
      "cell_type": "code",
      "source": [
        "import networkx as nx\n",
        "import random\n",
        "import torch\n",
        "\n",
        "def create_random_molecule_graph(num_atoms=9, num_bonds=12):\n",
        "    \"\"\"\n",
        "    Creates a random molecular graph with a specified number of atoms and bonds.\n",
        "\n",
        "    Args:\n",
        "        num_atoms (int): The number of atoms in the molecule.\n",
        "        num_bonds (int): The number of bonds between atoms in the molecule.\n",
        "\n",
        "    Returns:\n",
        "        (nx.Graph, list): A tuple containing the generated molecular graph and the list of atom labels.\n",
        "    \"\"\"\n",
        "    G = nx.Graph()\n",
        "    atom_labels = [f\"{i}:{random.choice(['H', 'C', 'O'])}\" for i in range(num_atoms)]\n",
        "    G.add_nodes_from(atom_labels)\n",
        "\n",
        "    for _ in range(num_bonds):\n",
        "        atom1, atom2 = random.choice(atom_labels), random.choice(atom_labels)\n",
        "        while atom1 == atom2 or G.has_edge(atom1, atom2):\n",
        "            atom1, atom2 = random.choice(atom_labels), random.choice(atom_labels)\n",
        "        G.add_edge(atom1, atom2)\n",
        "\n",
        "    return G, atom_labels\n",
        "\n",
        "def classify_molecule1(G):\n",
        "    \"\"\"\n",
        "    Classifies a molecule based on its atomic composition.\n",
        "\n",
        "    Args:\n",
        "        G (nx.Graph): The molecular graph.\n",
        "\n",
        "    Returns:\n",
        "        int: The type of molecule (1, 2, or 0).\n",
        "    \"\"\"\n",
        "    atom_labels = list(G.nodes)\n",
        "    num_carbon = sum(1 for label in atom_labels if label.endswith(\":C\"))\n",
        "    num_oxygen = sum(1 for label in atom_labels if label.endswith(\":O\"))\n",
        "\n",
        "    return 1 if num_carbon > num_oxygen else 2 if num_oxygen > num_carbon else 0\n",
        "\n",
        "def classify_molecule(G):\n",
        "    \"\"\"\n",
        "    Classifies a molecule into type 1 or type 2 based on complex criteria (without considering nitrogen).\n",
        "\n",
        "    Args:\n",
        "        G (nx.Graph): The molecular graph.\n",
        "\n",
        "    Returns:\n",
        "        int: The type of molecule (1 or 2).\n",
        "    \"\"\"\n",
        "    atom_labels = list(G.nodes)\n",
        "    num_carbon = sum(1 for label in atom_labels if label.endswith(\":C\"))\n",
        "    num_oxygen = sum(1 for label in atom_labels if label.endswith(\":O\"))\n",
        "    num_hydrogen = sum(1 for label in atom_labels if label.endswith(\":H\"))\n",
        "    num_bonds = len(G.edges)\n",
        "\n",
        "    # Define complex criteria for classification\n",
        "    if num_oxygen >= 2 and num_hydrogen >= 3 and num_carbon >= 1 and num_bonds >= 3:\n",
        "        return 1\n",
        "    elif num_oxygen >= 1 and num_carbon >= 2 and num_bonds >= 2:\n",
        "        return 2\n",
        "    else:\n",
        "        return 0\n",
        "\n",
        "\n",
        "def generate_balanced_molecule_dataset(num_samples_per_type):\n",
        "    \"\"\"\n",
        "    Generates a balanced dataset of random molecule graphs.\n",
        "\n",
        "    Args:\n",
        "        num_samples_per_type (int): The number of samples per molecule type.\n",
        "\n",
        "    Returns:\n",
        "        list: A list of tuples, each containing a graph, its atom labels, and its classification.\n",
        "    \"\"\"\n",
        "    dataset = []\n",
        "    while len(dataset) < num_samples_per_type * 2:\n",
        "        G, atom_labels = create_random_molecule_graph()\n",
        "        classification = classify_molecule(G)\n",
        "        if classification in [1, 2]:\n",
        "            dataset.append((G, atom_labels, classification))\n",
        "    return dataset\n",
        "\n",
        "def graph_to_tensors(G, atom_labels):\n",
        "    \"\"\"\n",
        "    Converts a networkx graph of a molecule into tensor representations.\n",
        "\n",
        "    Args:\n",
        "        G (nx.Graph): The molecular graph.\n",
        "        atom_labels (list): List of atom labels in the molecule.\n",
        "\n",
        "    Returns:\n",
        "        tuple: A tuple containing the tensor representation of atom types (X) and adjacency matrix (A).\n",
        "    \"\"\"\n",
        "    atom_types = {'H': [1, 0, 0], 'C': [0, 1, 0], 'O': [0, 0, 1]}\n",
        "    X = torch.tensor([atom_types[node.split(':')[1]] for node in atom_labels], dtype=torch.float)\n",
        "\n",
        "    N = len(atom_labels)\n",
        "    A = torch.zeros((N, N), dtype=torch.float)\n",
        "    for i, j in G.edges:\n",
        "        idx1 = atom_labels.index(i)\n",
        "        idx2 = atom_labels.index(j)\n",
        "        A[idx1, idx2] = 1\n",
        "        A[idx2, idx1] = 1\n",
        "\n",
        "    return X, A\n",
        "\n",
        "\n",
        "# Generating a few random molecule graphs for visualization\n",
        "graphs = [create_random_molecule_graph() for _ in range(3)]\n",
        "\n",
        "# Plotting the generated graphs\n",
        "fig, axes = plt.subplots(1, 3, figsize=(15, 5))\n",
        "for i, (G, atom_labels) in enumerate(graphs):\n",
        "    pos = nx.spring_layout(G)  # Using spring layout for visual aesthetics\n",
        "    nx.draw(G, pos, with_labels=True, ax=axes[i])\n",
        "    axes[i].set_title(f\"Molecule Graph {i+1}\")\n",
        "\n",
        "plt.show()\n",
        "\n"
      ],
      "metadata": {
        "colab": {
          "base_uri": "https://localhost:8080/",
          "height": 444
        },
        "id": "xgMxZ-vgjjfS",
        "outputId": "66fa9e7c-9e77-4b6b-cc84-95ded84bfd51"
      },
      "execution_count": null,
      "outputs": [
        {
          "output_type": "display_data",
          "data": {
            "text/plain": [
              "<Figure size 1500x500 with 3 Axes>"
            ],
            "image/png": "[encoded data removed]"
          },
          "metadata": {}
        }
      ]
    },
    {
      "cell_type": "markdown",
      "source": [
        "## Implementing a Graph Convolutional Network (GCN)\n",
        "\n",
        "This code constructs a simple Graph Neural Network model using GCN layers for processing graph-structured data. Key components include:\n",
        "\n",
        "- `GCNLayer`: A layer in the GCN, applying linear transformation and optional non-linearity to node features.\n",
        "- `GraphNeuralNetwork`: A neural network model comprising two GCN layers.\n",
        "\n"
      ],
      "metadata": {
        "id": "XdblKZ8wl0GD"
      }
    },
    {
      "cell_type": "code",
      "source": [
        "import torch\n",
        "import torch.nn as nn\n",
        "import torch.nn.functional as F\n",
        "\n",
        "torch.manual_seed(42)\n",
        "\n",
        "\n",
        "class GCNLayer(nn.Module):\n",
        "    \"\"\"\n",
        "    A single layer of a Graph Convolutional Network (GCN).\n",
        "\n",
        "    This layer applies a graph convolution operation followed by an optional non-linearity.\n",
        "    The graph convolution is parameterized by a weight matrix (Omega) and a bias vector (beta).\n",
        "\n",
        "    Attributes:\n",
        "        use_nonlinearity (bool): A flag to apply a non-linear activation function.\n",
        "        Omega (torch.nn.Parameter): The weight matrix for the graph convolution.\n",
        "        beta (torch.nn.Parameter): The bias vector for the graph convolution.\n",
        "\n",
        "    Args:\n",
        "        input_dim (int): The number of input features.\n",
        "        output_dim (int): The number of output features.\n",
        "        use_nonlinearity (bool): If True, a ReLU non-linearity is applied after the convolution.\n",
        "    \"\"\"\n",
        "\n",
        "    def __init__(self, input_dim, output_dim, use_nonlinearity=True):\n",
        "        super(GCNLayer, self).__init__()\n",
        "        self.use_nonlinearity = use_nonlinearity\n",
        "        self.Omega = nn.Parameter(torch.randn(input_dim, output_dim) * torch.sqrt(torch.tensor(2.0) / (input_dim + output_dim)))\n",
        "        self.beta = nn.Parameter(torch.zeros(output_dim))\n",
        "\n",
        "    def forward(self, H_k, A_normalized):\n",
        "        \"\"\"\n",
        "        Forward pass of the GCN layer.\n",
        "\n",
        "        Args:\n",
        "            H_k (torch.Tensor): The input node feature matrix (shape: [num_nodes, input_dim]).\n",
        "            A_normalized (torch.Tensor): The normalized adjacency matrix (shape: [num_nodes, num_nodes]).\n",
        "\n",
        "        Returns:\n",
        "            torch.Tensor: The output node feature matrix (shape: [num_nodes, output_dim]).\n",
        "        \"\"\"\n",
        "        # TODO: Implement the forward pass of the GCN layer.\n",
        "        #  H_k_next = A_normalized * H_k * Omega + beta\n",
        "\n",
        "        return F.relu(H_k_next) if self.use_nonlinearity else H_k_next\n",
        "\n",
        "\n",
        "\n",
        "class GraphNeuralNetwork(nn.Module):\n",
        "    \"\"\"\n",
        "    A simple Graph Neural Network model using two layers of Graph Convolutional Network (GCN)\n",
        "    for binary classification. The sigmoid activation is applied in the output layer only if\n",
        "    use_nonlinearity is set to True.\n",
        "\n",
        "    Args:\n",
        "        input_dim (int): The number of input features.\n",
        "        hidden_dim (int): The number of hidden units in the first GCN layer.\n",
        "        use_nonlinearity (bool): If True, a non-linearity is applied in the GCN layers.\n",
        "        use_self_connections (bool): If True, self-connections are added to the graph.\n",
        "        use_normalization (bool): If True, normalization is applied to the adjacency matrix.\n",
        "    \"\"\"\n",
        "\n",
        "    def __init__(self, input_dim, hidden_dim, use_nonlinearity=True, use_self_connections=True, use_normalization=True):\n",
        "        super(GraphNeuralNetwork, self).__init__()\n",
        "        self.use_nonlinearity = use_nonlinearity\n",
        "        self.use_self_connections = use_self_connections\n",
        "        self.use_normalization = use_normalization\n",
        "\n",
        "        # Define GCN layers\n",
        "        # TODO: Initialize the first GCN layer with appropriate dimensions and non-linearity flags.\n",
        "        # self.gcn1 =\n",
        "          self.gcn2 = GCNLayer(hidden_dim, 1, False)\n",
        "\n",
        "    def forward(self, A, X, return_embeddings=False):\n",
        "        \"\"\"\n",
        "        Forward pass of the Graph Neural Network.\n",
        "\n",
        "        Args:\n",
        "            A (torch.Tensor): The adjacency matrix (shape: [num_nodes, num_nodes]).\n",
        "            X (torch.Tensor): The node feature matrix (shape: [num_nodes, input_dim]).\n",
        "            return_embeddings (bool): If True, return the embeddings along with the output.\n",
        "\n",
        "        Returns:\n",
        "            torch.Tensor: The output of the network (shape: [1]).\n",
        "            Optionally, returns the embeddings from the GCN layers.\n",
        "        \"\"\"\n",
        "        # Apply self-connections if enabled\n",
        "        if self.use_self_connections:\n",
        "            A = A + torch.eye(A.size(0))\n",
        "\n",
        "        # Apply normalization if enabled\n",
        "        if self.use_normalization:\n",
        "            epsilon = 1e-5  # Small constant to avoid division by zero\n",
        "            d = A.sum(1) + epsilon\n",
        "            D_inv = torch.diag(torch.pow(d, -0.5))\n",
        "            A = D_inv @ A @ D_inv\n",
        "\n",
        "        # TODO: Pass the input through the first and second GCN layers.\n",
        "        # H1 =\n",
        "        # H2 =\n",
        "\n",
        "        # TODO: Compute the mean of H2 and apply sigmoid activation.\n",
        "        # output =\n",
        "\n",
        "        # Check for NaN values and handle them\n",
        "        if torch.isnan(output).any():\n",
        "            output = torch.where(torch.isnan(output), torch.zeros_like(output), output)\n",
        "\n",
        "        if return_embeddings:\n",
        "            return output, H1, H2\n",
        "        else:\n",
        "            return output"
      ],
      "metadata": {
        "id": "T35qx8mPjgCv"
      },
      "execution_count": null,
      "outputs": []
    },
    {
      "cell_type": "markdown",
      "source": [
        "## Visualization Tools for Model Training and Analysis\n",
        "\n",
        "This section provides functions to visualize training loss, node embeddings, and weight distributions in a GCN model:\n",
        "\n",
        "- `plot_training_loss`: Plots the loss over training epochs.\n",
        "- `visualize_embeddings`: Uses PCA to reduce node embeddings to 2D for visualization.\n",
        "- `visualize_omega_distribution`: Creates heatmaps of the weight distributions in GCN layers.\n",
        "\n",
        "These tools help in understanding and analyzing the training process and the model's internal representations.\n"
      ],
      "metadata": {
        "id": "u5_pKl37l1cw"
      }
    },
    {
      "cell_type": "code",
      "source": [
        "import matplotlib.pyplot as plt\n",
        "import torch\n",
        "import numpy as np\n",
        "from sklearn.decomposition import PCA\n",
        "import seaborn as sns\n",
        "\n",
        "def plot_training_loss(loss_values):\n",
        "    \"\"\"\n",
        "    Plots the training loss over epochs.\n",
        "\n",
        "    Args:\n",
        "        loss_values (list): A list of loss values, one for each epoch of training.\n",
        "\n",
        "    This function creates a line plot where the X-axis represents the epoch number\n",
        "    and the Y-axis represents the loss value for each epoch.\n",
        "    \"\"\"\n",
        "    plt.figure(figsize=(8, 6))\n",
        "    plt.plot(range(1, len(loss_values) + 1), loss_values, label='Training Loss')\n",
        "    plt.title('Training Loss Over Epochs')\n",
        "    plt.xlabel('Epoch')\n",
        "    plt.ylabel('Loss')\n",
        "    plt.legend()\n",
        "    plt.grid(True)\n",
        "    plt.show()\n",
        "\n",
        "\n",
        "\n",
        "def visualize_embeddings(embeddings_list, labels_list, title, epochs):\n",
        "    \"\"\"\n",
        "    Visualize embeddings using PCA, with different colors for each label.\n",
        "    Each epoch is visualized in a separate subplot, arranged horizontally.\n",
        "\n",
        "    :param embeddings_list: List of embeddings from different epochs.\n",
        "    :param labels_list: List of labels corresponding to each point in the embeddings.\n",
        "    :param title: Title for the plot.\n",
        "    :param epochs: List of epochs corresponding to the embeddings.\n",
        "    \"\"\"\n",
        "    num_epochs = len(embeddings_list)\n",
        "    pca = PCA(n_components=2)  # PCA for dimensionality reduction to 2 dimensions\n",
        "    fig, axes = plt.subplots(1, num_epochs, figsize=(5 * num_epochs, 5))  # Adjust subplot size as needed\n",
        "\n",
        "    for i, embeddings in enumerate(embeddings_list):\n",
        "        if embeddings.shape[1] < 2:\n",
        "            print(f\"Skipping PCA for Epoch {epochs[i]} - insufficient dimensions\")\n",
        "            continue\n",
        "\n",
        "        embeddings_2d = pca.fit_transform(embeddings)\n",
        "        unique_labels = np.unique(labels_list[i])\n",
        "\n",
        "        for label in unique_labels:\n",
        "            # Select embeddings for the current label\n",
        "            indices = [j for j, x in enumerate(labels_list[i]) if x == label]\n",
        "            selected_embeddings = embeddings_2d[indices, :]\n",
        "\n",
        "            # Plot\n",
        "            axes[i].scatter(selected_embeddings[:, 0], selected_embeddings[:, 1], label=f'Label {label}', alpha=0.5)\n",
        "\n",
        "        axes[i].set_title(f'Epoch {epochs[i]}')\n",
        "        axes[i].set_xlabel('PCA Component 1')\n",
        "        axes[i].set_ylabel('PCA Component 2')\n",
        "        axes[i].legend()\n",
        "\n",
        "    plt.suptitle(title)\n",
        "    plt.show()\n",
        "\n",
        "\n",
        "def visualize_omega_distribution(layers, epochs):\n",
        "    \"\"\"\n",
        "    Visualizes the distribution of weights (Omega) in each GCN layer of the Graph Neural Network across different epochs using smooth KDE plots.\n",
        "\n",
        "    Args:\n",
        "        layers (list): A list containing tuples of (layer_name, weight_arrays), where weight_arrays is a list of numpy arrays of the weights at each epoch.\n",
        "        epochs (list): A list of epoch numbers corresponding to the weight arrays.\n",
        "    \"\"\"\n",
        "    for layer_name, weight_arrays in layers:\n",
        "        plt.figure(figsize=(12, 6))\n",
        "        for i, weights in enumerate(weight_arrays):\n",
        "            omega_values = weights.flatten()  # Flatten the array for KDE plot\n",
        "            sns.kdeplot(omega_values, fill=True, label=f'Epoch {epochs[i]}')  # Updated from 'shade' to 'fill'\n",
        "\n",
        "        plt.title(f'{layer_name} Weight Distribution Across Epochs', fontsize=16)\n",
        "        plt.xlabel('Weight Values', fontsize=12)\n",
        "        plt.ylabel('Density', fontsize=12)\n",
        "        plt.legend()\n",
        "        plt.show()\n",
        "\n"
      ],
      "metadata": {
        "id": "_CmFjosWjh35"
      },
      "execution_count": null,
      "outputs": []
    },
    {
      "cell_type": "markdown",
      "source": [
        "## Training and Testing Functions for GCN Models\n",
        "\n",
        "Defines functions to train and test Graph Neural Network models:\n",
        "\n",
        "- `train_epoch`: Conducts one training epoch, returning the average loss.\n",
        "- `test`: Evaluates the model on a test dataset, returning accuracy and other metrics.\n",
        "\n",
        "Use these functions for iterative model training and evaluation on test data.\n"
      ],
      "metadata": {
        "id": "Eu1HcNBFl2aT"
      }
    },
    {
      "cell_type": "code",
      "source": [
        "import torch\n",
        "\n",
        "# Training function\n",
        "\n",
        "def train_epoch(model, dataset, optimizer, criterion, return_embeddings=False):\n",
        "    total_loss = 0\n",
        "    all_embeddings_H1 = []\n",
        "    all_labels_H1 = []\n",
        "\n",
        "    for X, A, label in dataset:\n",
        "        optimizer.zero_grad()\n",
        "\n",
        "        # Forward pass with optional embeddings\n",
        "        if return_embeddings:\n",
        "            output, H1, _ = model(A, X, return_embeddings=True)\n",
        "            all_embeddings_H1.append(H1.detach().cpu().numpy())  # Store H1 embeddings\n",
        "        else:\n",
        "            output = model(A, X)\n",
        "\n",
        "        # Prepare label for BCELoss\n",
        "        adjusted_label = 1 if label == 1 else 0\n",
        "        label_tensor = torch.tensor([float(adjusted_label)], dtype=torch.float)\n",
        "        all_labels_H1.append(label_tensor.detach().cpu().numpy())\n",
        "\n",
        "        # Flatten the output to match the label tensor shape\n",
        "        output_flat = output.view(-1)\n",
        "\n",
        "        # Compute loss\n",
        "        loss = criterion(output_flat, label_tensor)\n",
        "\n",
        "        # Backward pass and optimization\n",
        "        loss.backward()\n",
        "        optimizer.step()\n",
        "\n",
        "        total_loss += loss.item()\n",
        "\n",
        "    average_loss = total_loss / len(dataset)\n",
        "\n",
        "    if return_embeddings:\n",
        "        return average_loss, (all_embeddings_H1,all_labels_H1)\n",
        "    else:\n",
        "        return average_loss\n",
        "\n",
        "\n",
        "# Testing function\n",
        "def test(model, dataset):\n",
        "    model.eval()\n",
        "    true_labels = []\n",
        "    predicted_labels = []\n",
        "    correct = 0\n",
        "\n",
        "    with torch.no_grad():\n",
        "        for X, A, label in dataset:\n",
        "            output = model(A, X)\n",
        "\n",
        "            # Convert sigmoid output to binary prediction\n",
        "            predicted = (output >= 0.5).int().item()\n",
        "\n",
        "            # Adjust labels to match binary predictions (0 and 1)\n",
        "            adjusted_label = 1 if label == 1 else 0\n",
        "\n",
        "            true_labels.append(adjusted_label)\n",
        "            predicted_labels.append(predicted)\n",
        "            correct += (predicted == adjusted_label)\n",
        "\n",
        "    accuracy = correct / len(dataset)\n",
        "    return true_labels, predicted_labels, accuracy\n"
      ],
      "metadata": {
        "id": "9gvT2KcOjiCm"
      },
      "execution_count": null,
      "outputs": []
    },
    {
      "cell_type": "markdown",
      "source": [
        "## Setting Up and Executing the Training Process\n",
        "\n",
        "Outlines the process for preparing a dataset, setting up the GCN model, and conducting training:\n",
        "\n",
        "- Steps include data preparation, model initialization, and configuration.\n",
        "- Setting up the loss function and optimizer.\n",
        "- Running the training loop and visualizing training progress.\n",
        "\n",
        "Follow these steps to train the GCN model on a specific dataset and visualize the training outcomes.\n"
      ],
      "metadata": {
        "id": "uGzZjMG2l3R8"
      }
    },
    {
      "cell_type": "code",
      "source": [
        "import random\n",
        "import torch.nn as nn\n",
        "import torch.optim as optim\n",
        "\n",
        "\n",
        "# Generate a balanced dataset of random molecule graphs\n",
        "num_samples_per_type = 200\n",
        "balanced_molecule_dataset = generate_balanced_molecule_dataset(num_samples_per_type)\n",
        "\n",
        "# Convert the dataset to tensor format for neural network processing\n",
        "balanced_molecule_dataset_tensors = [graph_to_tensors(G, atom_labels) + (label,) for G, atom_labels, label in balanced_molecule_dataset]\n",
        "\n",
        "# Split the dataset into training and test sets\n",
        "random.shuffle(balanced_molecule_dataset_tensors)\n",
        "train_set_size = int(len(balanced_molecule_dataset_tensors) * 0.8)\n",
        "train_dataset = balanced_molecule_dataset_tensors[:train_set_size]\n",
        "test_dataset = balanced_molecule_dataset_tensors[train_set_size:]"
      ],
      "metadata": {
        "id": "ZfZRa7lSbqI9"
      },
      "execution_count": null,
      "outputs": []
    },
    {
      "cell_type": "code",
      "source": [
        "\n",
        "num_epochs = 50\n",
        "\n",
        "# Define the Graph Neural Network model, loss function, and optimizer\n",
        "model = GraphNeuralNetwork(\n",
        "    input_dim=3,\n",
        "    hidden_dim=64,\n",
        "    use_nonlinearity=True,  # Set to False to remove nonlinearities\n",
        "    use_self_connections=True,  # Set to False to remove self-connections\n",
        "    use_normalization=True  # Set to False to remove normalization\n",
        ")\n",
        "\n",
        "print(model)\n",
        "\n",
        "# Print out the model's configuration for verification\n",
        "print(\"Model Configuration:\")\n",
        "print(f\"Input Dimension: {model.gcn1.Omega.shape[0]}\")\n",
        "print(f\"Hidden Dimension: {model.gcn1.Omega.shape[1]}\")\n",
        "print(f\"Output Dimension: {model.gcn2.Omega.shape[1]}\")\n",
        "print(f\"Use Nonlinearity: {model.use_nonlinearity}\")\n",
        "print(f\"Use Self-Connections: {model.use_self_connections}\")\n",
        "print(f\"Use Normalization: {model.use_normalization}\")\n",
        "\n",
        "# Loss function and optimizer\n",
        "criterion = nn.BCELoss()\n",
        "optimizer = optim.Adam(model.parameters(), lr=0.001)\n",
        "\n",
        "# Initialize a list to store loss values for visualization\n",
        "loss_values = []\n",
        "\n",
        "# Initialize lists to store weights for each layer at specific epochs\n",
        "gcn1_weights = []\n",
        "gcn2_weights = []\n",
        "embeddings_layer_1 = []\n",
        "labels_layer_1 = []\n",
        "\n",
        "selected_epochs = [1, num_epochs//2, num_epochs]  # The epochs you want to visualize\n",
        "\n",
        "# Training loop\n",
        "for epoch in range(num_epochs):\n",
        "    if epoch + 1 in selected_epochs:\n",
        "        # Train and return embeddings for selected epochs\n",
        "        loss, (epoch_embeddings_1, epoch_labels_1) = train_epoch(model, train_dataset, optimizer, criterion, return_embeddings=True)\n",
        "\n",
        "        # Aggregating embeddings from all batches\n",
        "        embeddings_layer_1.append(np.concatenate(epoch_embeddings_1, axis=0))\n",
        "        labels_layer_1.append(np.concatenate(epoch_labels_1, axis=0))\n",
        "\n",
        "    else:\n",
        "        # Train without returning embeddings for other epochs\n",
        "        loss = train_epoch(model, train_dataset, optimizer, criterion)\n",
        "\n",
        "    print(f\"Epoch {epoch+1}, Loss: {loss}\")\n",
        "    loss_values.append(loss)\n",
        "\n",
        "    # Store the weights of each layer at selected epochs\n",
        "    if epoch + 1 in selected_epochs:\n",
        "        gcn1_weights.append(model.gcn1.Omega.detach().numpy().copy())\n",
        "        gcn2_weights.append(model.gcn2.Omega.detach().numpy().copy())\n",
        "\n",
        "# Plot the training loss after the completion of training\n",
        "plot_training_loss(loss_values)\n",
        "\n",
        "# Visualize the distribution of weights for each layer at selected epochs\n",
        "visualize_omega_distribution([(\"GCN Layer 1\", gcn1_weights), (\"GCN Layer 2\", gcn2_weights)], epochs=selected_epochs)\n",
        "\n",
        "visualize_embeddings(embeddings_layer_1, labels_layer_1, title=\"Embeddings from GCN Layer 1\", epochs=selected_epochs)\n",
        "\n",
        "\n",
        "from sklearn.metrics import precision_score, recall_score, f1_score\n",
        "import matplotlib.pyplot as plt\n",
        "\n",
        "# Evaluate the model on the test set\n",
        "true_labels, predicted_labels, accuracy = test(model, test_dataset)\n",
        "\n",
        "# Debug: Print true and predicted labels\n",
        "print(\"True labels:\", true_labels)\n",
        "print(\"Predicted labels:\", predicted_labels)\n",
        "\n",
        "# Calculate precision, sensitivity (recall), and F1-score\n",
        "precision = precision_score(true_labels, predicted_labels, average='macro')\n",
        "sensitivity = recall_score(true_labels, predicted_labels, average='macro')\n",
        "f1 = f1_score(true_labels, predicted_labels, average='macro')\n",
        "\n",
        "# Print out the evaluation metrics\n",
        "print(f\"Accuracy: {accuracy:.4f}\")\n",
        "print(f\"Precision: {precision:.4f}\")\n",
        "print(f\"Sensitivity: {sensitivity:.4f}\")\n",
        "print(f\"F1-score: {f1:.4f}\")\n",
        "\n",
        "# Visualize the performance metrics\n",
        "# These metrics provide a comprehensive view of the model's performance.\n",
        "\n",
        "# Prepare data for visualization\n",
        "evaluation_metrics = [accuracy, precision, sensitivity, f1]\n",
        "metric_names = ['Accuracy', 'Precision', 'Sensitivity', 'F1-score']\n",
        "\n",
        "# Create a bar plot for the evaluation metrics\n",
        "plt.figure(figsize=(8, 6))\n",
        "plt.bar(metric_names, evaluation_metrics, color=['purple', 'blue', 'green', 'orange'])\n",
        "plt.title('Evaluation Metrics')\n",
        "plt.ylabel('Score')\n",
        "plt.ylim(0, 1.0)  # Set y-axis limit to maintain consistency in scale\n",
        "plt.grid(axis='y', linestyle='--', alpha=0.7)  # Add horizontal grid lines for readability\n",
        "plt.show()\n"
      ],
      "metadata": {
        "colab": {
          "base_uri": "https://localhost:8080/"
        },
        "id": "ut2tx1G7jiJH",
        "outputId": "663d0ee4-942c-404d-c6b6-48f82a88da15"
      },
      "execution_count": null,
      "outputs": [
        {
          "output_type": "stream",
          "name": "stdout",
          "text": [
            "GraphNeuralNetwork(\n",
            "  (gcn1): GCNLayer()\n",
            "  (gcn2): GCNLayer()\n",
            ")\n",
            "Model Configuration:\n",
            "Input Dimension: 3\n",
            "Hidden Dimension: 64\n",
            "Output Dimension: 1\n",
            "Use Nonlinearity: True\n",
            "Use Self-Connections: True\n",
            "Use Normalization: True\n"
          ]
        }
      ]
    },
    {
      "cell_type": "code",
      "source": [
        "\n",
        "configurations = [\n",
        "    (True, True, True),\n",
        "    (False, True, True),\n",
        "    (True, True, False),\n",
        "    (True, False, True)\n",
        "\n",
        "]\n",
        "\n",
        "config_results = []\n",
        "\n",
        "# Loop over the configurations\n",
        "for nonlinearity, self_connections, normalization in configurations:\n",
        "    # Initialize model with current configuration\n",
        "    model = GraphNeuralNetwork(\n",
        "        input_dim=3,\n",
        "        hidden_dim=64,\n",
        "        use_nonlinearity=nonlinearity,\n",
        "        use_self_connections=self_connections,\n",
        "        use_normalization=normalization\n",
        "    )\n",
        "\n",
        "    # Define optimizer for the model\n",
        "    optimizer = optim.Adam(model.parameters(), lr=0.001)\n",
        "\n",
        "    # Train the model\n",
        "    for epoch in range(10):\n",
        "        loss = train_epoch(model, train_dataset, optimizer, criterion)\n",
        "        print(f\"Epoch {epoch+1}, Loss: {loss}\")\n",
        "\n",
        "    # Test the model\n",
        "    true_labels, predicted_labels, accuracy = test(model, test_dataset)\n",
        "\n",
        "    # Calculate metrics\n",
        "    precision = precision_score(true_labels, predicted_labels, average='macro')\n",
        "    sensitivity = recall_score(true_labels, predicted_labels, average='macro')\n",
        "    f1 = f1_score(true_labels, predicted_labels, average='macro')\n",
        "\n",
        "    # Store results\n",
        "    config_results.append({\n",
        "        'Configuration': f\"NL={nonlinearity}, SC={self_connections}, NM={normalization}\",\n",
        "        'Accuracy': accuracy,\n",
        "        'Precision': precision,\n",
        "        'Sensitivity': sensitivity,\n",
        "        'F1-score': f1\n",
        "    })\n",
        "\n",
        "    # Print out the evaluation metrics for the current configuration\n",
        "    print(\"\\nPerformance Metrics for Configuration: NL={}, SC={}, NM={}\".format(nonlinearity, self_connections, normalization))\n",
        "    print(f\"Accuracy: {accuracy:.4f}\")\n",
        "    print(f\"Precision: {precision:.4f}\")\n",
        "    print(f\"Sensitivity: {sensitivity:.4f}\")\n",
        "    print(f\"F1-score: {f1:.4f}\")\n",
        "    print(\"-\" * 50)\n",
        "\n",
        "# Plotting the results\n",
        "\n",
        "# Calculate the minimum and maximum scores for each metric\n",
        "min_max_scores = {}\n",
        "for metric in ['Accuracy', 'Precision', 'Sensitivity', 'F1-score']:\n",
        "    scores = [result[metric] for result in config_results]\n",
        "    min_score = min(scores)\n",
        "    max_score = max(scores)\n",
        "    min_max_scores[metric] = (min_score, max_score)\n",
        "\n",
        "\n",
        "fig, axes = plt.subplots(1, 4, figsize=(24, 6))\n",
        "for i, metric in enumerate(['Accuracy', 'Precision', 'Sensitivity', 'F1-score']):\n",
        "    axes[i].bar(\n",
        "        [result['Configuration'] for result in config_results],\n",
        "        [result[metric] for result in config_results],\n",
        "        color=['purple', 'blue', 'green', 'orange']\n",
        "    )\n",
        "    axes[i].set_title(metric)\n",
        "    # Set ylim dynamically based on the min and max scores for the current metric\n",
        "    min_score, max_score = min_max_scores[metric]\n",
        "    axes[i].set_ylim(min_score - 0.1, max_score + 0.1)  # You can adjust the margin (0.1) as needed\n",
        "\n",
        "    axes[i].set_ylabel('Score')\n",
        "    axes[i].set_xticklabels(\n",
        "        [result['Configuration'] for result in config_results],\n",
        "        rotation=45,\n",
        "        ha='right'\n",
        "    )\n",
        "    axes[i].grid(axis='y', linestyle='--', alpha=0.7)\n",
        "\n",
        "plt.tight_layout()\n",
        "plt.show()\n"
      ],
      "metadata": {
        "id": "BPkQPB2MEMRG"
      },
      "execution_count": null,
      "outputs": []
    },
    {
      "cell_type": "markdown",
      "source": [
        "# Homework  "
      ],
      "metadata": {
        "id": "5nlGL1tQ2v11"
      }
    },
    {
      "cell_type": "markdown",
      "source": [
        "## Implementation of GCN Model Based on another Propagation Rule\n",
        "\n",
        "In this exercise, you are tasked with implementing a Graph Convolutional Network (GCN) graph classifier similar to the one in the previous section but follows a a different node embedding update rule. The update rule incorporates a separate linear transformation for the current node features and the aggregated features from its neighbors.\n",
        "\n",
        "Here is the update rule for reference:\n",
        "\n",
        "$$\n",
        "h^{(n)}_{k+1} = a \\left[ \\beta_k + \\Omega_k h^{(n)}_{k} + \\Omega'_k \\text{agg}[n, k] \\right]\n",
        "$$\n",
        "\n",
        "where:\n",
        "\n",
        "- $h^{(n)}_{k}$ are the node embeddings at the $k$-th layer for node $n$,\n",
        "- $\\text{agg}[n, k]$ is the aggregated embedding from the neighbors of node $n$ at the $k$-th layer,\n",
        "- $\\Omega_k$ and $\\Omega'_k$ are trainable weight matrices at the $k$-th layer,\n",
        "- $\\beta_k$ is a bias term,\n",
        "- $a$ is an activation function (e.g., ReLU).\n",
        "\n",
        "You are expected to compare the performance of your model with the standard GCN propagation rule that we implemented above.\n",
        "\n",
        "\n",
        "### Comparison Factor\n",
        "\n",
        "For comparison, focus on **classification accuracy, specifity and sensetivity** and **total number of trainable parameters**. Consider the following questions:\n",
        "\n",
        "- Does the new rule improve learning by incorporating different transformations for the current node and its neighbors (i.e. more degrees of freedom, larger capacity)?\n",
        "- How does the training time of the model with the new rule compare to the baseline model?\n",
        "\n",
        "Make sure to document your findings with appropriate visualizations and a discussion section that includes your insights and explanations for the observed behavior.\n",
        "\n",
        "### Tips for Implementation\n",
        "\n",
        "- Use can use a common dataset for graph classification but to make the comparison fair re-train the classifier in the previous section using this dataset.\n",
        "\n",
        "Good luck with your implementation, and we look forward to seeing your innovative approaches to graph neural networks!\n",
        "\n",
        "\n",
        "\n",
        "\n",
        "![image.png](data:image/png;base64,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)"
      ],
      "metadata": {
        "id": "0a1NangV_PFo"
      }
    }
  ]
}